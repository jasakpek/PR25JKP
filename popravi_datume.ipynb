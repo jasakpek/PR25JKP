{
 "cells": [
  {
   "cell_type": "markdown",
   "id": "ecddabe6-7956-4372-9a96-109fef08ff29",
   "metadata": {},
   "source": [
    "Iz html-jev sem slabo prebral datume, in sicer obcasno se pojavi, da je na lokaciji datuma zapisan drugi kraj, to se zgodi kadar imamo vec kot en kraj, jaz pa sem splital po prvi vejici in zato shranil drugi kraj na mesto datuma <br>  **POMEMBNO** vsi datumi niso popravljeni, a sem pripravljen reskirati nekaj clankov (priblizno 300 / 305000)"
   ]
  },
  {
   "cell_type": "code",
   "execution_count": 1,
   "id": "3a4ccbb5-2e6a-4d92-a9b3-8fc44d008b28",
   "metadata": {},
   "outputs": [],
   "source": [
    "import re\n",
    "from datetime import datetime\n",
    "import json\n",
    "import os"
   ]
  },
  {
   "cell_type": "code",
   "execution_count": 2,
   "id": "7f561d8c-6904-410a-907b-3ef2485a3f8e",
   "metadata": {},
   "outputs": [],
   "source": [
    "with open(\"../clanki_z_labelami.json\", \"r\", encoding=\"utf-8\") as f:\n",
    "    clanki = json.load(f)"
   ]
  },
  {
   "cell_type": "code",
   "execution_count": 3,
   "id": "f4a03419-f890-4f6a-a93a-04eae8dd0693",
   "metadata": {},
   "outputs": [],
   "source": [
    "def is_date(text: str) -> bool:\n",
    "    \"\"\"\n",
    "    Preveri, ali je podano besedilo datum, z ali brez časa.\n",
    "    Podprti formati vključujejo:\n",
    "    - DD.MM.YYYY\n",
    "    - DD.MM.YY HH.MM\n",
    "    - YYYY-MM-DD\n",
    "    - DD/MM/YYYY\n",
    "    - DD. mesec YYYY\n",
    "    \"\"\"\n",
    "\n",
    "    text = text.strip()\n",
    "\n",
    "    # Vnaprej definirani regularni izrazi\n",
    "    date_patterns = [\n",
    "        r\"\\b\\d{1,2}\\.\\s*\\d{1,2}\\.\\s*\\d{4}\\b\",              # 28. 5. 2024\n",
    "        r\"\\b\\d{4}-\\d{1,2}-\\d{1,2}\\b\",                      # 2024-05-28\n",
    "        r\"\\b\\d{1,2}/\\d{1,2}/\\d{4}\\b\",                      # 28/05/2024\n",
    "        r\"\\b\\d{1,2}\\.\\s*[a-zA-ZčšžČŠŽ]+\\s*\\d{4}\\b\",        # 28. maj 2024\n",
    "        r\"\\b\\d{1,2}\\.\\d{1,2}\\.\\d{2}\\s+\\d{1,2}\\.\\d{1,2}\\b\", # 24.03.25 00.00\n",
    "    ]\n",
    "\n",
    "    for pattern in date_patterns:\n",
    "        if re.search(pattern, text):\n",
    "            return True\n",
    "\n",
    "    # Seznam možnih datetime formatov\n",
    "    possible_formats = [\n",
    "        \"%d.%m.%Y\", \"%d. %m. %Y\", \"%Y-%m-%d\",\n",
    "        \"%d/%m/%Y\", \"%d. %B %Y\", \"%d. %b %Y\",\n",
    "        \"%d.%m.%y %H.%M\",  # 24.03.25 00.00\n",
    "        \"%d.%m.%Y %H.%M\",\n",
    "        \"%Y-%m-%d %H:%M\",\n",
    "        \"%d/%m/%Y %H:%M\"\n",
    "    ]\n",
    "\n",
    "    for fmt in possible_formats:\n",
    "        try:\n",
    "            datetime.strptime(text, fmt)\n",
    "            return True\n",
    "        except ValueError:\n",
    "            continue\n",
    "\n",
    "    return False"
   ]
  },
  {
   "cell_type": "code",
   "execution_count": 4,
   "id": "1befb201-3f73-4798-8a44-ad18a1b61bf2",
   "metadata": {},
   "outputs": [
    {
     "name": "stdout",
     "output_type": "stream",
     "text": [
      "Vseh clankov z nepravilnim datumom je: 684\n"
     ]
    }
   ],
   "source": [
    "i=0\n",
    "\n",
    "for clanek in clanki:\n",
    "    if not is_date(clanek.get(\"date\", \"\").strip()):\n",
    "        #print( f\"{clanek.get('title', '')}\")\n",
    "        i=i+1\n",
    "\n",
    "print(f\"Vseh clankov z nepravilnim datumom je: {i}\")"
   ]
  },
  {
   "cell_type": "code",
   "execution_count": 5,
   "id": "626feb5b-7918-4986-a0c7-d72f6869f1f0",
   "metadata": {},
   "outputs": [],
   "source": [
    "def odstrani_sumnike(besedilo: str) -> str:\n",
    "    zamenjave = {\n",
    "        \"č\": \"c\", \"š\": \"s\", \"ž\": \"z\",\n",
    "        \"Č\": \"c\", \"Š\": \"s\", \"Ž\": \"z\"\n",
    "    }\n",
    "    return \"\".join(zamenjave.get(znak, znak) for znak in besedilo)"
   ]
  },
  {
   "cell_type": "code",
   "execution_count": 6,
   "id": "ba126817-3e16-4e46-93e5-47af468d55d1",
   "metadata": {},
   "outputs": [],
   "source": [
    "def najdi_html_pot(naslov: str) -> str | None:\n",
    "    \"\"\"\n",
    "    Iz naslova ustvari ime HTML datoteke in preveri, če obstaja v ../../html/.\n",
    "\n",
    "    Primer:\n",
    "        \"Slovenska politika danes\" → \"../html/slovenska-politika-danes.html\"\n",
    "\n",
    "    Vrne:\n",
    "        Pot do datoteke, če obstaja, sicer None.\n",
    "    \"\"\"\n",
    "    # Pretvori naslov v ime datoteke\n",
    "    ime_datoteke = naslov.lower().replace(\" \", \"-\")\n",
    "    ime_datoteke = odstrani_sumnike(ime_datoteke)\n",
    "    ime_datoteke = ime_datoteke.replace('\"', '').replace(\"'\", '').replace(\",\", \"\").replace(\"?\",\"\").replace(\":\", \"\").replace(\".\", \"\").replace(\"–\", \"-\").replace(\"--\", \"-\").replace(\"---\", \"-\")\n",
    "    ime_datoteke = ime_datoteke + \".html\"\n",
    "    pot = os.path.join(\"..\",\"..\", \"html\", ime_datoteke)\n",
    "\n",
    "    # Preveri obstoj datoteke\n",
    "    if os.path.exists(pot):\n",
    "        return pot\n",
    "    else:\n",
    "        return None\n"
   ]
  },
  {
   "cell_type": "code",
   "execution_count": 7,
   "id": "88c80a85-70e7-4e9a-8f7d-5d2ec167e1ff",
   "metadata": {},
   "outputs": [
    {
     "name": "stdout",
     "output_type": "stream",
     "text": [
      "Najdenih je bilo 369 poti\n"
     ]
    }
   ],
   "source": [
    "i=0\n",
    "for clanek in clanki:\n",
    "    if not is_date(clanek.get(\"date\", \"\").strip()):\n",
    "        pot = najdi_html_pot(clanek.get(\"title\",\"\"))\n",
    "        if pot:\n",
    "            i=i+1\n",
    "        #else:\n",
    "            #print(clanek.get(\"title\",\"\"))\n",
    "\n",
    "print(f\"Najdenih je bilo {i} poti\")"
   ]
  },
  {
   "cell_type": "markdown",
   "id": "f0bfe9a1-32a4-403c-9768-fc824a0295af",
   "metadata": {},
   "source": [
    "Kljub veliko omejitvam vseh clankov nemorm vec povezati z njihovimi osnovnimi datotekami, zato sem se odlocil da je to sorazmerno majhen delez in bom nadaljeval brez njih"
   ]
  },
  {
   "cell_type": "code",
   "execution_count": 8,
   "id": "5e9f1836-71db-4b20-bc6f-6e54e9898d48",
   "metadata": {},
   "outputs": [],
   "source": [
    "from bs4 import BeautifulSoup\n"
   ]
  },
  {
   "cell_type": "code",
   "execution_count": 9,
   "id": "fb07c9b7-37a0-45af-b4c6-30e396352886",
   "metadata": {},
   "outputs": [],
   "source": [
    "def getDatum(soup):\n",
    "    return soup.select_one('article > div > p').get_text(strip=True).split(\",\")[-1].split(\"|\")[0]\n",
    "\n",
    "    "
   ]
  },
  {
   "cell_type": "code",
   "execution_count": 10,
   "id": "55047559-38d1-402e-912c-4e89dbbab3bc",
   "metadata": {},
   "outputs": [
    {
     "name": "stdout",
     "output_type": "stream",
     "text": [
      " da je to njena dolžnost.\n",
      " nastopita popolna tišina in tema. Začne se lebdenje.\n",
      " na katerem so podirali rekorde. Pomerilo se je namreč 151 kosmatincev iz kar 39 različnih držav.\n",
      " da bi v domači Črni gori postal vinogradnik.\n",
      " se bodo ekstremni politični pojavi vrnili – močnejši kot kdaj koli prej.\"\n",
      " ki jim starši težko priskrbijo rojstnodnevno torto.\n",
      " kako izboljšati privlačnost Slovenije za tuje naložbe.\n",
      " je precepljenost še vedno nizka.\n",
      " z nami pa se je pogovarjala pred odprtjem razstave.\n",
      " ga še vedno preganja.\n",
      " zakaj so taki zagovorniki vrednot tudi zunaj igrišča.\n",
      " dražje in bolj boleče.\n",
      "\" pa pove 18-letno dekle. Oba sta uspela pobegniti vojni in zdaj živita v Sloveniji.\n",
      " da je za strah kriva ali slaba izkušnja ali nepravilna vzgoja.\n",
      " ki so jo prebili na zemlji svojih očetov.\n",
      " ki jih je ujel.\n",
      " kjer smo podelili nagrade za motošportnik leta. Na notranjepolitičnem področju je medtem vladala le ena tema – Nataša Pirc Musar je tudi uradno postala prva predsednica Slovenije. Kateri foto utrinki pa so se še uvrstili v tedenski pregled?\n",
      "\" pravi Črnjan Aleš Moličnik.\n",
      "\" je jasen.\n",
      " poudarjajo v Cerkljah ob Krki.\n",
      " in seveda znova poudariti – nikoli več.\n",
      " da si je na poti ustvaril tudi cel kup pozitivnih spominov.\n",
      " bi ostala Enigma.\n",
      " Alexander Berljant in Wladimir Pinschuk so se tragični usodi izognili - in letos ob obletnici tega grozljivega dogodka so z nemškim Spieglom delili svoje zgodbe iz tistega časa.\n",
      " domačini pa na ta način dobijo delo.\n",
      " ko je prepozno.\n",
      " da zločincem lahko pogleda v oči.\n",
      " ki jih turizem preveč duši.\n",
      " da se v tuji državi nikoli ni počutil kot tujec.\n",
      " ki kar buhti od življenja. Slovenija je tako prvič sodelovala v družbi najelitnejših raziskovalnih institucij pri odkrivanju skrivnosti globokega morja.\n",
      " tu je tudi 20 let Slovenije v Natu ter 75. obletnica obstoja te mednarodne organizacije. Katere fotografije so še odmevale pretekli teden?\n",
      " ki jo predstavlja neizprosno naraščajoča gladina morja. Njegova vloga je tudi razbremenitev prenaseljenega glavnega mesta in ponuja pametne urbane rešitve.\n",
      " ki so jo ob rapalski meji postavili italijanski vojaki.\n",
      " družbo pa narediti vsaj malce bolj sočutno.\n",
      " pri tem pa zelo pomembno vlogo igrajo pripadniki Slovenske vojske. Ob izpolnjevanju nalog bo leto 2024 tam dočakal že 48. slovenski kontingent in njegov 101 pripadnik.\n",
      " brexit spominja na labirint brez izhoda.\n",
      " kjer postdaytonska ureditev doživlja resne preizkušnje.\n",
      " da bo v leto 2022 vstopil brez zaščitnih mask.\n",
      "Popravljenih je bilo 331 datumov\n"
     ]
    }
   ],
   "source": [
    "i=0\n",
    "for clanek in clanki:\n",
    "    if not is_date(clanek.get(\"date\", \"\").strip()):\n",
    "        pot = najdi_html_pot(clanek.get(\"title\",\"\"))\n",
    "        if pot:\n",
    "            with open(pot, 'r', encoding='utf-8') as f:\n",
    "                article=BeautifulSoup(f, 'html.parser')\n",
    "            datum = getDatum(article)\n",
    "            if is_date(datum):\n",
    "                clanek[\"date\"] = datum\n",
    "                i=i+1\n",
    "            else:\n",
    "                print(datum)\n",
    "\n",
    "print(f\"Popravljenih je bilo {i} datumov\")"
   ]
  },
  {
   "cell_type": "code",
   "execution_count": 11,
   "id": "c855a3fd-d5f7-4b60-9b60-77d4b6ed7bb4",
   "metadata": {},
   "outputs": [],
   "source": [
    "with open(\"combined_finish.json\", 'w', encoding='utf-8') as f:\n",
    "    json.dump(clanki, f, ensure_ascii=False, indent=2)"
   ]
  }
 ],
 "metadata": {
  "kernelspec": {
   "display_name": "Python 3 (ipykernel)",
   "language": "python",
   "name": "python3"
  },
  "language_info": {
   "codemirror_mode": {
    "name": "ipython",
    "version": 3
   },
   "file_extension": ".py",
   "mimetype": "text/x-python",
   "name": "python",
   "nbconvert_exporter": "python",
   "pygments_lexer": "ipython3",
   "version": "3.11.2"
  }
 },
 "nbformat": 4,
 "nbformat_minor": 5
}
